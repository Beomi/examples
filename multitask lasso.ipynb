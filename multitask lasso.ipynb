{
 "cells": [
  {
   "cell_type": "code",
   "execution_count": 3,
   "metadata": {
    "ExecuteTime": {
     "end_time": "2017-03-04T13:33:33.293096",
     "start_time": "2017-03-04T13:33:31.899705"
    },
    "collapsed": true,
    "run_control": {
     "frozen": false,
     "read_only": false
    }
   },
   "outputs": [],
   "source": [
    "import matplotlib.pyplot as plt\n",
    "import numpy as np\n",
    "\n",
    "from sklearn.linear_model import MultiTaskLasso, Lasso\n",
    "import cPickle as pickle\n",
    "import pandas as pd"
   ]
  },
  {
   "cell_type": "code",
   "execution_count": 2,
   "metadata": {
    "ExecuteTime": {
     "end_time": "2017-03-04T10:16:12.779805",
     "start_time": "2017-03-04T10:15:45.603778"
    },
    "collapsed": false,
    "run_control": {
     "frozen": false,
     "read_only": false
    }
   },
   "outputs": [],
   "source": [
    "rng = np.random.RandomState(42)\n",
    "\n",
    "# Generate some 2D coefficients with sine waves with random frequency and phase\n",
    "n_samples, n_features, n_tasks = 100000, 1000, 100\n",
    "n_relevant_features = 5\n",
    "coef = np.zeros((n_tasks, n_features))\n",
    "times = np.linspace(0, 2 * np.pi, n_tasks)\n",
    "for k in range(n_relevant_features):\n",
    "    coef[:, k] = np.sin((1. + rng.randn(1)) * times + 3 * rng.randn(1))\n",
    "\n",
    "X = rng.randn(n_samples, n_features)\n",
    "Y = np.dot(X, coef.T) + rng.randn(n_samples, n_tasks)\n",
    "\n",
    "#coef_lasso_ = np.array([Lasso(alpha=0.5).fit(X, y).coef_ for y in Y.T])\n",
    "coef_multi_task_lasso_ = MultiTaskLasso(alpha=1.).fit(X, Y).coef_"
   ]
  },
  {
   "cell_type": "code",
   "execution_count": 82,
   "metadata": {
    "ExecuteTime": {
     "end_time": "2017-03-04T14:44:09.394502",
     "start_time": "2017-03-04T14:44:08.648373"
    },
    "collapsed": false
   },
   "outputs": [],
   "source": [
    "import re\n",
    "\n",
    "#meta = pickle.load(open(\"imagenet_reduce/imagenet-train-all-scaled-tar.tarfile_keys.job_stats.pickle\",'r'))\n",
    "#meta = pickle.load(open(\"imagenet_reduce/imagenet-validation-all-scaled-tar.tarfile_keys.job_stats.pickle\",'r'))\n",
    "a= pickle.load(open(\"imagenet_reduce/imagenet-validation-all-scaled-tar.tarfile_keys.labels.meta.pickle\",'r'))"
   ]
  },
  {
   "cell_type": "code",
   "execution_count": 83,
   "metadata": {
    "ExecuteTime": {
     "end_time": "2017-03-04T14:44:10.618885",
     "start_time": "2017-03-04T14:44:10.476421"
    },
    "collapsed": false
   },
   "outputs": [],
   "source": [
    "labels_to_labelnum = {k : v for v, k in enumerate(np.unique(a['dataframe'].label_str))}\n",
    "label_num = a['dataframe'].label_str.apply(lambda x : labels_to_labelnum[x])\n",
    "label_num = np.array(label_num)"
   ]
  },
  {
   "cell_type": "code",
   "execution_count": 94,
   "metadata": {
    "ExecuteTime": {
     "end_time": "2017-03-04T16:16:21.369881",
     "start_time": "2017-03-04T16:16:21.364355"
    },
    "collapsed": false,
    "scrolled": true
   },
   "outputs": [],
   "source": [
    " = np.load(\"imagenet_reduce/imagenet-train-all-scaled-tar.tarfile_keys.features_bulk.npy\", mmap_mode='r')"
   ]
  },
  {
   "cell_type": "code",
   "execution_count": 85,
   "metadata": {
    "ExecuteTime": {
     "end_time": "2017-03-04T14:44:23.709901",
     "start_time": "2017-03-04T14:44:23.702014"
    },
    "collapsed": true
   },
   "outputs": [],
   "source": [
    "y = label_num"
   ]
  },
  {
   "cell_type": "code",
   "execution_count": 116,
   "metadata": {
    "ExecuteTime": {
     "end_time": "2017-03-04T16:35:01.676499",
     "start_time": "2017-03-04T16:34:55.086529"
    },
    "collapsed": false
   },
   "outputs": [],
   "source": [
    "r = pickle.load(open(\"imagenet_reduce/lstsq_direct_solve.pickle\", 'r'))"
   ]
  },
  {
   "cell_type": "code",
   "execution_count": 117,
   "metadata": {
    "ExecuteTime": {
     "end_time": "2017-03-04T16:35:02.756812",
     "start_time": "2017-03-04T16:35:02.748949"
    },
    "collapsed": false
   },
   "outputs": [],
   "source": [
    "w = r['res']['w']"
   ]
  },
  {
   "cell_type": "code",
   "execution_count": 134,
   "metadata": {
    "ExecuteTime": {
     "end_time": "2017-03-04T17:58:26.070758",
     "start_time": "2017-03-04T17:58:15.547848"
    },
    "collapsed": false
   },
   "outputs": [],
   "source": [
    "X_train = np.load(\"imagenet_reduce/\" + r['X_filename'], mmap_mode='r')\n",
    "y_train_all = pickle.load(open(\"imagenet_reduce/\" + r['y_filename'], 'r'))"
   ]
  },
  {
   "cell_type": "code",
   "execution_count": 136,
   "metadata": {
    "ExecuteTime": {
     "end_time": "2017-03-04T17:58:59.080168",
     "start_time": "2017-03-04T17:58:59.073592"
    },
    "collapsed": false
   },
   "outputs": [],
   "source": [
    "train_labelnum_to_label = {k : v for v, k in y_train_all['labels_to_labelnum'].items()}"
   ]
  },
  {
   "cell_type": "code",
   "execution_count": 119,
   "metadata": {
    "ExecuteTime": {
     "end_time": "2017-03-04T16:35:38.972088",
     "start_time": "2017-03-04T16:35:16.180953"
    },
    "collapsed": true
   },
   "outputs": [],
   "source": [
    "Xw = np.dot(X, w)"
   ]
  },
  {
   "cell_type": "code",
   "execution_count": 120,
   "metadata": {
    "ExecuteTime": {
     "end_time": "2017-03-04T16:35:39.956365",
     "start_time": "2017-03-04T16:35:38.973970"
    },
    "collapsed": false
   },
   "outputs": [],
   "source": [
    "a = np.array(np.argmax(Xw, axis=1)).flatten()"
   ]
  },
  {
   "cell_type": "code",
   "execution_count": 121,
   "metadata": {
    "ExecuteTime": {
     "end_time": "2017-03-04T16:36:22.915203",
     "start_time": "2017-03-04T16:36:22.907241"
    },
    "collapsed": false
   },
   "outputs": [
    {
     "data": {
      "text/plain": [
       "array([  0,   0,   0, ..., 999, 999, 999])"
      ]
     },
     "execution_count": 121,
     "metadata": {},
     "output_type": "execute_result"
    }
   ],
   "source": [
    "y['y']"
   ]
  },
  {
   "cell_type": "code",
   "execution_count": 124,
   "metadata": {
    "ExecuteTime": {
     "end_time": "2017-03-04T16:36:58.182981",
     "start_time": "2017-03-04T16:36:58.166115"
    },
    "collapsed": false
   },
   "outputs": [
    {
     "data": {
      "text/plain": [
       "0.31177980700408298"
      ]
     },
     "execution_count": 124,
     "metadata": {},
     "output_type": "execute_result"
    }
   ],
   "source": [
    "np.sum(a == y['y'])/float(len(a))"
   ]
  },
  {
   "cell_type": "code",
   "execution_count": 127,
   "metadata": {
    "ExecuteTime": {
     "end_time": "2017-03-04T16:43:33.642823",
     "start_time": "2017-03-04T16:43:33.056106"
    },
    "collapsed": true
   },
   "outputs": [],
   "source": [
    "X_test = np.load(\"imagenet_reduce/imagenet-validation-all-scaled-tar.tarfile_keys.features_bulk.npy\", \n",
    "                 mmap_mode='r')\n",
    "y_test = pickle.load(open(\"imagenet_reduce/imagenet-validation-all-scaled-tar.tarfile_keys.labels.meta.pickle\", 'r'))"
   ]
  },
  {
   "cell_type": "code",
   "execution_count": 140,
   "metadata": {
    "ExecuteTime": {
     "end_time": "2017-03-04T18:01:56.589013",
     "start_time": "2017-03-04T18:01:54.885695"
    },
    "collapsed": true
   },
   "outputs": [],
   "source": [
    "X_test_w = np.dot(X_test, w)\n",
    "y_test_pred = np.array(np.argmax(X_test_w, axis=1)).flatten()\n"
   ]
  },
  {
   "cell_type": "code",
   "execution_count": 141,
   "metadata": {
    "ExecuteTime": {
     "end_time": "2017-03-04T18:01:56.646593",
     "start_time": "2017-03-04T18:01:56.590566"
    },
    "collapsed": false
   },
   "outputs": [],
   "source": [
    "y_test_pred_label = [train_labelnum_to_label[p] for p in y_test_pred]\n",
    "y_test_pred_num = [y_test['labels_to_labelnum'][i] for i in y_test_pred_label]\n",
    "np.sum(y_test_pred_num == y_test['y'])/float(len(y_test_pred_num))"
   ]
  },
  {
   "cell_type": "code",
   "execution_count": 148,
   "metadata": {
    "ExecuteTime": {
     "end_time": "2017-03-04T18:13:42.241778",
     "start_time": "2017-03-04T18:13:42.233750"
    },
    "collapsed": false
   },
   "outputs": [
    {
     "data": {
      "text/plain": [
       "True"
      ]
     },
     "execution_count": 148,
     "metadata": {},
     "output_type": "execute_result"
    }
   ],
   "source": [
    "y_test['labels_to_labelnum'] == y_train_all['labels_to_labelnum']"
   ]
  },
  {
   "cell_type": "code",
   "execution_count": 146,
   "metadata": {
    "ExecuteTime": {
     "end_time": "2017-03-04T18:12:46.986168",
     "start_time": "2017-03-04T18:12:46.978578"
    },
    "collapsed": false
   },
   "outputs": [
    {
     "data": {
      "text/plain": [
       "0.01188"
      ]
     },
     "execution_count": 146,
     "metadata": {},
     "output_type": "execute_result"
    }
   ],
   "source": [
    "np.sum(y_test_pred == y_test['y'])/float(len(y_test_pred_num))"
   ]
  }
 ],
 "metadata": {
  "anaconda-cloud": {},
  "kernelspec": {
   "display_name": "Python [default]",
   "language": "python",
   "name": "python2"
  },
  "language_info": {
   "codemirror_mode": {
    "name": "ipython",
    "version": 2
   },
   "file_extension": ".py",
   "mimetype": "text/x-python",
   "name": "python",
   "nbconvert_exporter": "python",
   "pygments_lexer": "ipython2",
   "version": "2.7.12"
  },
  "toc": {
   "nav_menu": {
    "height": "12px",
    "width": "252px"
   },
   "navigate_menu": true,
   "number_sections": true,
   "sideBar": true,
   "threshold": 4,
   "toc_cell": false,
   "toc_section_display": "block",
   "toc_window_display": false
  }
 },
 "nbformat": 4,
 "nbformat_minor": 1
}
